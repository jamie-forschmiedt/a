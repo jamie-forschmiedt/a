{
 "cells": [
  {
   "cell_type": "markdown",
   "metadata": {},
   "source": [
    "This program contains functions that produce a random permutation of the numbers 1 through n (where n is specified in the code), conduct four statistical tests to determine whether the permutation is truly random, and plot a bipartite graph and scatterplot representation of the permutation."
   ]
  },
  {
   "cell_type": "markdown",
   "metadata": {},
   "source": [
    "First, we will need the \"igraph\" package:"
   ]
  },
  {
   "cell_type": "code",
   "execution_count": null,
   "metadata": {
    "scrolled": true
   },
   "outputs": [],
   "source": [
    "library(igraph)"
   ]
  },
  {
   "cell_type": "markdown",
   "metadata": {},
   "source": [
    "Next, we will define a function called \"permute\" that produces a random permutation of the numbers 1 through n."
   ]
  },
  {
   "cell_type": "code",
   "execution_count": 2,
   "metadata": {},
   "outputs": [],
   "source": [
    "# The permute function takes a positive integer parameter n and generates a permutation of the\n",
    "# numbers 1 through n via this process:\n",
    "#\n",
    "## 1) Begin with the numbers {1,...,n} listed in ascending order\n",
    "## 2) Pick two indices (numbers 1 through n) uniformly at random\n",
    "## 3) If the same index was picked twice, do nothing\n",
    "## 4) If two different indices were picked, swap the numbers at the selected indices\n",
    "## 5) Repeat this process for 0.8nlog(n) steps\n",
    "## 6) The end result is an (ostensibly) random permutation\n",
    "#\n",
    "# The function also conducts four statistical tests (Footrule, Spearman's rank correlation, \n",
    "# Hamming distance, and Kendall's tau) to assess the plausibility of the resulting permutation occurring \n",
    "# at random and prints the p values.\n",
    "permute <- function(n) {\n",
    "  # pi(i) = i\n",
    "  pi <- seq(1 : n)\n",
    "  indices <- seq(1 : n)\n",
    "  curr_vector <- pi\n",
    "  # repeat the swap for 0.5nlog(n) times\n",
    "  for (k in 1 : floor(0.8*n*log(n))) {\n",
    "  # in the vector, pick 2 indices i, j at random with replacement, if i does not equal to j, \n",
    "  # then swap the elements at those indices\n",
    "    i <- sample(indices, size = 1, replace = TRUE)\n",
    "    j <- sample(indices, size = 1, replace = TRUE)\n",
    "    if (i != j) {\n",
    "      temp <-  curr_vector[i]\n",
    "      curr_vector[i] <- curr_vector[j]\n",
    "      curr_vector[j] <- temp\n",
    "    }\n",
    "  }\n",
    "  \n",
    "# now we get a permutation of size n, but is it a random permutation? Let's test it!\n",
    "  ro <- 0\n",
    "  spearman_corr <- 0\n",
    "  hamm_dis <- 0\n",
    "  for (i in indices) {\n",
    "    # calculate the test statistics for Footrule:\n",
    "    ro <- ro + abs(pi[i] - curr_vector[i])\n",
    "    # calculate the test statistics for Spearman's rank correlation:\n",
    "    spearman_corr <- spearman_corr + (pi[i] - curr_vector[i])^2\n",
    "  # calculate the test statistics for Footrule Hamming distance:\n",
    "    if (pi[i] != curr_vector[i]) {\n",
    "      hamm_dis <- hamm_dis + 1\n",
    "    }\n",
    "  }\n",
    "\n",
    "  # test1: Footrule\n",
    "  AV_ro <- (n^2 - 1) / 3\n",
    "  VAR_ro <- (n + 1) * (2 * n^2 + 7) / 45\n",
    "  SD_ro <- sqrt(VAR_ro)\n",
    "  # get the corresponding z-score\n",
    "  z_footrule <- (ro - AV_ro)/SD_ro\n",
    "  # get the corresponding p-value\n",
    "  p_footrule <- 2 * pnorm(-abs(z_footrule), mean = 0, sd = 1, lower.tail = TRUE)\n",
    "\n",
    "  # test2: Spearman's rank correlation\n",
    "  AV_spearman <- (n^3 - n) / 6\n",
    "  VAR_spearman <- n^2 * (n - 1) * (n + 1)^2 / 36\n",
    "  SD_spearman <- sqrt(VAR_spearman)\n",
    "  # get the corresponding z-score\n",
    "  z_spearman <- (spearman_corr - AV_spearman)/SD_spearman\n",
    "  # get the corresponding p-value\n",
    "  p_spearman <- 2 * pnorm(-abs(z_spearman), mean=0, sd=1, lower.tail=TRUE)\n",
    "  \n",
    "  # test3: Footrule Hamming distance\n",
    "    # n - hamm_dis = number of fixed points\n",
    "    # p_hamm = probability of having greater than or equal to n-hamm_dis fixed points under the Pois(1) distribution\n",
    "  p_hamm <- ppois(n - hamm_dis - 1, lambda=1, lower.tail=FALSE)   \n",
    "\n",
    "  # test4: Kendall's tau\n",
    "  ken_tau <- 0 #test statistic\n",
    "  for (i in 1:(n-1)) {\n",
    "    for (j in (i+1):n) { # i<j\n",
    "      if (which(i==curr_vector) > which(j==curr_vector)) { #position of i > position of j (i.e. there is an inversion)\n",
    "        ken_tau <- ken_tau + 1\n",
    "      }\n",
    "    }\n",
    "  }\n",
    "  AV_ken <- choose(n, 2) / 2 #mean\n",
    "  VAR_ken <- n * (n-1) * (2*n + 5) / 72 #variance\n",
    "  SD_ken <- sqrt(VAR_ken) #standard deviation\n",
    "  z_ken <- (ken_tau - AV_ken)/SD_ken #z score\n",
    "  p_ken <- 2 * pnorm(-abs(z_ken), mean=0, sd=1, lower.tail=TRUE)\n",
    "  \n",
    "  test_results <- c(p_footrule, p_spearman, p_hamm, p_ken)\n",
    "  test_names <- c(\"Footrule\", \"Spearman's rank correlation\", \"Hamming distance\", \"Kendall's tau\")\n",
    "  display <- data.frame(\"Test_names\" = test_names, \n",
    "                        \"p_values\" = test_results)\n",
    "  print(display)\n",
    "  return(curr_vector)\n",
    "}"
   ]
  },
  {
   "cell_type": "markdown",
   "metadata": {},
   "source": [
    "Next, we will define a function \"bipartite_permutation\" that uses the permute function and produces two graphs:\n",
    "\n",
    "1) A bipartite graph with an arrow drawn from each index to the value at that index in the resulting permutation\n",
    "\n",
    "2) A scatterplot with the indices 1 through n on the x-axis and the value at each index on the y-axis\n",
    "\n",
    "as well as printing the permutation and the results of the four statistical tests."
   ]
  },
  {
   "cell_type": "code",
   "execution_count": 3,
   "metadata": {},
   "outputs": [],
   "source": [
    "bipartite_permutation <- function(n) {\n",
    "  # Generate the bipartite layout for n vertices\n",
    "  xcoords <- c(rep(-1, n), rep(1, n))\n",
    "  ycoords <- rep(seq(1:n), 2)\n",
    "  coords <- data.frame(xcoords, ycoords)\n",
    "  mcoords <- as.matrix(coords)\n",
    "  a <- graph(edges=c(), n=(2*n))\n",
    "  V(a)$col <- ifelse(V(a)<=n, \"SkyBlue2\", \"yellow\")\n",
    "  \n",
    "  perm <- permute(n)\n",
    "  print(perm)\n",
    "  for (i in 1:n) {\n",
    "    a <- a + edge(i, perm[i] + n)\n",
    "  }\n",
    "  \n",
    "  #partition the plot viewer to display two graphs at once and plot the bipartite & scatterplot graphs\n",
    "  par(mfrow=c(1,2), oma = c(0, 0, 2, 0)) #split viewer window so we can display two graphs at once\n",
    "  plot(a, layout=mcoords, vertex.label=rep(1:n, 2), vertex.color=V(a)$col, vertex.size=16,\n",
    "       vertex.label.cex=0.8, edge.color=\"black\", edge.arrow.size=0.7,\n",
    "       main=\"Bipartite representation\")\n",
    "  plot(seq(1:n), perm, pch = 19, xlab = \"indices\", ylab = expression(paste(\"value of \",sigma,\"(i)\")), \n",
    "       main = \"Scatterplot representation\")\n",
    "}"
   ]
  },
  {
   "cell_type": "markdown",
   "metadata": {},
   "source": [
    "Let's try a permutation of the numbers 1 through 10:"
   ]
  },
  {
   "cell_type": "code",
   "execution_count": 4,
   "metadata": {},
   "outputs": [
    {
     "name": "stdout",
     "output_type": "stream",
     "text": [
      "                   Test_names  p_values\n",
      "1                    Footrule 0.6732140\n",
      "2 Spearman's rank correlation 0.6758142\n",
      "3            Hamming distance 1.0000000\n",
      "4               Kendall's tau 0.5312500\n",
      " [1]  9  6  4  1  3  8 10  7  5  2\n"
     ]
    },
    {
     "data": {
      "image/png": "[encoded data removed]",
      "text/plain": [
       "Plot with title \"Scatterplot representation\""
      ]
     },
     "metadata": {},
     "output_type": "display_data"
    }
   ],
   "source": [
    "bipartite_permutation(10)"
   ]
  }
 ],
 "metadata": {
  "kernelspec": {
   "display_name": "R",
   "language": "R",
   "name": "ir"
  },
  "language_info": {
   "codemirror_mode": "r",
   "file_extension": ".r",
   "mimetype": "text/x-r-source",
   "name": "R",
   "pygments_lexer": "r",
   "version": "3.6.1"
  }
 },
 "nbformat": 4,
 "nbformat_minor": 4
}
