{
 "cells": [
  {
   "cell_type": "code",
   "execution_count": null,
   "metadata": {
    "lines_to_next_cell": 0
   },
   "outputs": [],
   "source": []
  },
  {
   "cell_type": "markdown",
   "metadata": {},
   "source": [
    "Based on the Polya urn model, this program will create histograms of observed ratios of black balls in the urn after \n",
    "1000 draws(steps) for 10000 trials with different initial conditions (a, b), compared to the density function of \n",
    "the Beta(a,b) distribution. (a: the initial number of black balls in the urn; b: the initial number of red balls)"
   ]
  },
  {
   "cell_type": "markdown",
   "metadata": {},
   "source": [
    "First, download required packages and declare variables to store data from the simulations"
   ]
  },
  {
   "cell_type": "code",
   "execution_count": null,
   "metadata": {},
   "outputs": [],
   "source": [
    "library(ggplot2)\n",
    "library(tidyverse)\n",
    "nsteps <- 1000 # number of steps to sample in one trial\n",
    "trials <- 10000 # number of trials(more trials make the graph clearer)\n",
    "ratio <- matrix(0, nsteps,1) #create a matrix to record the ratio of black balls in the urn over time"
   ]
  },
  {
   "cell_type": "markdown",
   "metadata": {},
   "source": [
    "Based on the Polya urn model, write a R function to generate simulations with given initial numbers of black/red balls\n",
    "and output the histograms to visualize how the ratio converges to the corresponding Beta distribution with same parameters"
   ]
  },
  {
   "cell_type": "code",
   "execution_count": null,
   "metadata": {
    "lines_to_next_cell": 2
   },
   "outputs": [],
   "source": [
    "# Parameters of the function\n",
    "# a: initial number of black balls\n",
    "# b: initial number of red balls\n",
    "polya_urn.fun <- function(a, b) {\n",
    "  for (i in 1:trials){\n",
    "    black_curr <- a #current number of black balls\n",
    "    red_curr <- b #current number of red balls\n",
    "    for (n in 1:nsteps){\n",
    "      # the prob of drawing a black ball is (current # of black balls)/(initial # of black+red balls + current # of steps)\n",
    "      # the prob of drawing a red ball is (current # of red balls)/(initial # of black+red balls + current # of steps)\n",
    "      # Given those probabilities, sample a ball from the urn, \n",
    "      # here we use 1 to represent a balck ball and 0 to represent a red ball\n",
    "      drawn<-sample(c(1,0), size=1, prob=c(black_curr, red_curr)/(a + b + n))\n",
    "      if (drawn == 1) {\n",
    "        black_curr <- black_curr + 1\n",
    "      } else {\n",
    "        red_curr <- red_curr + 1\n",
    "      }\n",
    "    }\n",
    "    # in the ith trial, add the ratio of black balls in the urn after n steps\n",
    "    ratio[i]<-black_curr/(a +b + n)\n",
    "  }\n",
    "  # the proportion of black balls in the urn converges in distribution \n",
    "  # to the Beta distribution with parameters the same as initial # of red balls\n",
    "  # and initial # of black balls when n grows.\n",
    "  # As shown by the graph\n",
    "  sort_ratio <- sort(ratio)\n",
    "  beta_pdf <- dbeta(sort_ratio, a, b)\n",
    "  df <- data.frame(ratio,beta_pdf)\n",
    "  beta_para <- paste(\"BETA(\",a,\",\",b,\")\")\n",
    "  num_bins <- 20\n",
    "  urn_plot <- ggplot(df, aes(ratio)) +                  \n",
    "       geom_histogram(aes(x = ratio), fill=\"lightblue\", bins = num_bins, boundary=0, color = \"white\") + \n",
    "       scale_x_continuous(breaks = seq(0, 1, by=0.2), limits=c(0,1)) +\n",
    "       labs(title = beta_para,\n",
    "         x = \"Ratio of Black Balls in the Urn\",\n",
    "         y = \"\") + \n",
    "       theme_bw(base_size = 16) +\n",
    "       theme(plot.title = element_text(hjust = 0.5, face = \"bold\"), \n",
    "             axis.text.y = element_blank(), \n",
    "             plot.margin = unit(c(1, 1, 1, 2), \"cm\")) + \n",
    "       geom_line(aes(x = sort_ratio, y= (trials/num_bins) * beta_pdf), colour=\"red\")\n",
    "  return(urn_plot)\n",
    "}"
   ]
  },
  {
   "cell_type": "code",
   "execution_count": null,
   "metadata": {},
   "outputs": [],
   "source": [
    "# Simulate the Polya's urn with _ black ball and _ red ball at the beginning(you can fill the parameters \n",
    "# with different sets of numbers) Since the the number of iterations is huge, the function takes a while to give the output.\n",
    "polya_urn.fun(1,1)"
   ]
  },
  {
   "cell_type": "code",
   "execution_count": null,
   "metadata": {},
   "outputs": [],
   "source": []
  }
 ],
 "metadata": {
  "jupytext": {
   "cell_metadata_filter": "-all",
   "main_language": "R",
   "notebook_metadata_filter": "-all"
  }
 },
 "nbformat": 4,
 "nbformat_minor": 4
}
