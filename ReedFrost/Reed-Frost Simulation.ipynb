{
 "cells": [
  {
   "cell_type": "markdown",
   "metadata": {},
   "source": [
    "This program will create a GIF of an infectious disease spreading through a population according to the Reed-Frost model.\n",
    "\n",
    "The Reed-Frost model is a simple epidemiologic model in which each individual in a population takes one of three possible states: Susceptible (S), Infected (I), or Recovered (R). At each time step, every infected (I) individual has some probability p of coming into contact with each susceptible (S) person, independently of the others. If a susceptible individual comes into contact with at least one infected individual, they will become infected for the next time step and recovered (R) the time step after that. As such, each infected individual is only infected for one time step and cannot be re-infected after they reach \"recovered\" status. \n",
    "\n",
    "This program takes three parameters: \n",
    "- size: the total number of people in the population\n",
    "- I0: the initial number of infected individuals (the rest of the population will start as susceptible)\n",
    "- p: the probability of contact between each infected and susceptible individual\n",
    "\n",
    "In the GIF, susceptible individuals will appear as green dots, infected individuals will appear as red dots, and recovered individuals will appear as gray dots."
   ]
  },
  {
   "cell_type": "markdown",
   "metadata": {},
   "source": [
    "Here's the simulation code:\n",
    "\n",
    "First, you'll need the R packages 'igraph' and 'animation':"
   ]
  },
  {
   "cell_type": "code",
   "execution_count": null,
   "metadata": {},
   "outputs": [],
   "source": [
    "library(igraph)\n",
    "library(animation)"
   ]
  },
  {
   "cell_type": "markdown",
   "metadata": {},
   "source": [
    "The animation package also requires having a program called GraphicsMagick installed on your computer. Once you have it installed, tell R the file pathway (replace \"path-to-file\" with the actual file pathway):\n",
    "\n",
    "ani.options(\"convert\"=\"path-to-file\")"
   ]
  },
  {
   "cell_type": "code",
   "execution_count": null,
   "metadata": {},
   "outputs": [],
   "source": [
    "ani.options(\"convert\"=\"C:/Users/jamie/Downloads/GraphicsMagick-1.3.35-Q16-win64-dll\") #pathway on my computer"
   ]
  },
  {
   "cell_type": "markdown",
   "metadata": {},
   "source": [
    "Create the function for the simulation:"
   ]
  },
  {
   "cell_type": "code",
   "execution_count": null,
   "metadata": {},
   "outputs": [],
   "source": [
    "## Creates a GIF of a disease spreading through a population according to the \n",
    "## Reed-Frost Susceptible-Infected-Recovered (SIR) Model\n",
    "#\n",
    "## size = population size\n",
    "## I0 = initial number of infected individuals\n",
    "## p = probability of contact between each infected and susceptible person at each time step\n",
    "rfanimation <- function(size, I0, p) {\n",
    "  g1 <- graph(edges=c(), n=size, directed=F) #create a graph with size vertices, no edges\n",
    "  Status <- c() #vector representing the status of each person in the population\n",
    "  for (i in 1:(I0)) { #set the first I0 people to \"infected\"\n",
    "    Status <- c(Status, \"I\")\n",
    "  }\n",
    "  for (i in 1:(size - I0)) { #set the rest of the population to \"susceptible\"\n",
    "    Status <- c(Status, \"S\")\n",
    "  }\n",
    "  V(g1)$status <- Status # assign the elements in the \"Status\" vector to the nodes in the graph\n",
    "  \n",
    "  #begin the animation\n",
    "  saveGIF({\n",
    "    #plot the initial graph\n",
    "    ## Susceptible \"S\" = green\n",
    "    ## Infected \"I\" = red\n",
    "    ## Recovered \"R\" = gray\n",
    "    plot(g1, vertex.color=c(\"green\", \"red\", \"gray\")[1+(V(g1)$status==\"I\")+(2*(V(g1)$status==\"R\"))], \n",
    "         vertex.size=6, vertex.label=NA, \n",
    "         main=paste(\"Reed-Frost Simulation, population size =\", size, \", p =\", p))\n",
    "    legend(1, 1, legend=c(\"S\", \"I\", \"R\"), pch=19, col=c(\"green\", \"red\", \"gray\"))\n",
    "      \n",
    "    newStatus <- Status #vector for the status of the nodes at the new time step\n",
    "    \n",
    "    while (\"I\" %in% Status) { #while there are infected people in the population  \n",
    "      for (i in 1:length(Status)) { #for each node in the population\n",
    "        if (Status[i] == \"I\") { #if they are infected\n",
    "          newStatus[i] <- \"R\" #set their new status to recovered          \n",
    "          for (j in 1:length(Status)) { #traverse the population again\n",
    "            if (Status[j] == \"S\") { #if they are susceptible\n",
    "              u <- runif(1) #create a u ~ Unif(0, 1) random variable\n",
    "              if (u < p) { #if u is less than the p specified in the parameters\n",
    "                g1 <- g1 + edge(i,j) #draw an edge between the infected node and the susceptible node\n",
    "                if (newStatus[j] != \"I\") { #if node j hasn't already been infected this time step\n",
    "                  newStatus[j] <- \"I\" #set its new status to infected\n",
    "                }\n",
    "              }\n",
    "            }\n",
    "          }\n",
    "        }\n",
    "      }\n",
    "  \n",
    "      Status <- newStatus #set status to new status\n",
    "      V(g1)$status <- Status #assign the new status to each node in the graph\n",
    "      \n",
    "      # plot the new time step\n",
    "      plot(g1, vertex.color=c(\"green\", \"red\", \"gray\")[1+(V(g1)$status==\"I\")+(2*(V(g1)$status==\"R\"))], \n",
    "       vertex.size=6, vertex.label=NA,\n",
    "       main=paste(\"Reed-Frost Simulation, population size =\", size, \", p =\", p))\n",
    "      legend(1, 1, legend=c(\"S\", \"I\", \"R\"), pch=19, col=c(\"green\", \"red\", \"gray\"))\n",
    "    }\n",
    "  \n",
    "  }, interval=2, movie.name=\"rf_animation.gif\")\n",
    "}"
   ]
  },
  {
   "cell_type": "markdown",
   "metadata": {},
   "source": [
    "Finally, run the simulation. For example, try a population of 150 people with 1 initial infection and p=0.015:"
   ]
  },
  {
   "cell_type": "code",
   "execution_count": null,
   "metadata": {},
   "outputs": [],
   "source": [
    "rfanimation(150, 1, 0.015)"
   ]
  }
 ],
 "metadata": {
  "kernelspec": {
   "display_name": "R",
   "language": "R",
   "name": "ir"
  },
  "language_info": {
   "codemirror_mode": "r",
   "file_extension": ".r",
   "mimetype": "text/x-r-source",
   "name": "R",
   "pygments_lexer": "r",
   "version": "3.6.1"
  }
 },
 "nbformat": 4,
 "nbformat_minor": 4
}
