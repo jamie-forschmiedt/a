{
 "cells": [
  {
   "cell_type": "markdown",
   "metadata": {},
   "source": [
    "This program simulates a random walk on the n-cycle."
   ]
  },
  {
   "cell_type": "code",
   "execution_count": 1,
   "metadata": {},
   "outputs": [],
   "source": [
    "## Random walk on the n-cycle\n",
    "## Produces a bar graph of the proportion of time spent at each state after s steps\n",
    "## and prints the total variation between the distribution of the walk after s steps \n",
    "## and the uniform distribution\n",
    "#\n",
    "## n = size of cycle (number of vertices)\n",
    "## p = P(X, X+1)\n",
    "## s = number of steps\n",
    "ncycle <- function(n, p, s) {\n",
    "  numSteps <- rep(0, n) #vector of the number of visits to each state (initialized to 0 for all states)\n",
    "  \n",
    "  ## starting state:\n",
    "  x = floor(runif(1)*n + 1)\n",
    "  \n",
    "  ## run the walk for s steps\n",
    "  for (i in 1:s) {\n",
    "    if (runif(1) < p) { #with probability p\n",
    "      if (x != n) { #if the current state is not n\n",
    "        x = x + 1 #move up 1\n",
    "      } else { #if the current state is n\n",
    "        x = 1 #move to 1\n",
    "      }\n",
    "    } else { #with probability 1-p\n",
    "      if (x != 1) { #if the current state is not 1\n",
    "        x = x - 1 #move down 1\n",
    "      } else { #if the current state is 1\n",
    "        x = n #move to n\n",
    "      }\n",
    "    }\n",
    "    numSteps[x] = numSteps[x] + 1 #record the visit to the new state\n",
    "  } \n",
    "  \n",
    "  # This will create a vector describing the proportion of time the walk spent at each state\n",
    "  Proportions <- numSteps \n",
    "  for (i in 1:length(numSteps)) {\n",
    "    Proportions[i] = numSteps[i] / s \n",
    "  }\n",
    "  \n",
    "  # This will create the same vector, but with each entry rounded to 3 decimal places\n",
    "  ProportionsRounded <- Proportions \n",
    "  for (i in 1:n) {\n",
    "    ProportionsRounded[i] = round(Proportions[i], digits=3)\n",
    "  }\n",
    "  \n",
    "  # Total variation between the proportion of time spent at each state and the stationary distribution:\n",
    "  # (Stationary distribution will be uniform regardless of p)\n",
    "  TV <- 0\n",
    "  for (i in 1:n) {\n",
    "    TV <- TV + abs(Proportions[i] - (1/n))\n",
    "  }\n",
    "  TV = 0.5*TV\n",
    "  print(paste(\"Total Variation:\", round(TV, digits=3)))\n",
    "  \n",
    "  # Bar graph of the proportion of time spent at each state\n",
    "  cycleplot <- barplot(ProportionsRounded, names=c(1:n), xlab=\"State\", ylab=\"Proportion of steps\",\n",
    "          main=paste(\"Random walk on the\", n, \"cycle for\", s, \"steps, p =\", p))\n",
    "  text(x = cycleplot, y = ProportionsRounded, label = ProportionsRounded, pos=1, cex = 0.8, col = \"black\")\n",
    "}\n"
   ]
  },
  {
   "cell_type": "markdown",
   "metadata": {},
   "source": [
    "Let's try a random walk on the 6-cycle for 300 steps with p=0.5:"
   ]
  },
  {
   "cell_type": "code",
   "execution_count": 2,
   "metadata": {},
   "outputs": [
    {
     "name": "stdout",
     "output_type": "stream",
     "text": [
      "[1] \"Total Variation: 0.04\"\n"
     ]
    },
    {
     "data": {
      "image/png": "[encoded data removed]",
      "text/plain": [
       "Plot with title \"Random walk on the 6 cycle for 300 steps, p = 0.5\""
      ]
     },
     "metadata": {},
     "output_type": "display_data"
    }
   ],
   "source": [
    "ncycle(6, 0.5, 300)"
   ]
  }
 ],
 "metadata": {
  "kernelspec": {
   "display_name": "R",
   "language": "R",
   "name": "ir"
  },
  "language_info": {
   "codemirror_mode": "r",
   "file_extension": ".r",
   "mimetype": "text/x-r-source",
   "name": "R",
   "pygments_lexer": "r",
   "version": "3.6.1"
  }
 },
 "nbformat": 4,
 "nbformat_minor": 4
}
