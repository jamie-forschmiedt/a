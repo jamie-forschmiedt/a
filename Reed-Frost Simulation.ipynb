{
 "cells": [
  {
   "cell_type": "markdown",
   "metadata": {},
   "source": [
    "First install the packages needed to create the simulation:"
   ]
  },
  {
   "cell_type": "code",
   "execution_count": 1,
   "metadata": {},
   "outputs": [
    {
     "name": "stdout",
     "output_type": "stream",
     "text": [
      "package 'igraph' successfully unpacked and MD5 sums checked\n",
      "\n",
      "The downloaded binary packages are in\n",
      "\tC:\\Users\\jamie\\AppData\\Local\\Temp\\RtmpKIZzgJ\\downloaded_packages\n",
      "package 'animation' successfully unpacked and MD5 sums checked\n",
      "\n",
      "The downloaded binary packages are in\n",
      "\tC:\\Users\\jamie\\AppData\\Local\\Temp\\RtmpKIZzgJ\\downloaded_packages\n"
     ]
    },
    {
     "name": "stderr",
     "output_type": "stream",
     "text": [
      "Warning message:\n",
      "\"package 'igraph' was built under R version 3.6.3\"\n",
      "Attaching package: 'igraph'\n",
      "\n",
      "The following objects are masked from 'package:stats':\n",
      "\n",
      "    decompose, spectrum\n",
      "\n",
      "The following object is masked from 'package:base':\n",
      "\n",
      "    union\n",
      "\n",
      "Warning message:\n",
      "\"package 'animation' was built under R version 3.6.3\""
     ]
    }
   ],
   "source": [
    "install.packages('igraph')\n",
    "install.packages('animation')\n",
    "library(igraph)\n",
    "library(animation)"
   ]
  },
  {
   "cell_type": "markdown",
   "metadata": {},
   "source": [
    "This program requires having a program called GraphicsMagick installed on your computer. Once you have it installed, tell R the file pathway to GraphicsMagick on your computer:\n",
    "\n",
    "ani.options(\"convert\"=\"path-to-file\") \n",
    "\n",
    "(replace \"path-to-file\" with the actual file pathway.)"
   ]
  },
  {
   "cell_type": "code",
   "execution_count": 2,
   "metadata": {},
   "outputs": [],
   "source": [
    "ani.options(\"convert\"=\"C:/Users/jamie/Downloads/GraphicsMagick-1.3.35-Q16-win64-dll\") #pathway on my computer"
   ]
  },
  {
   "cell_type": "markdown",
   "metadata": {},
   "source": [
    "Now for the simulation code:"
   ]
  },
  {
   "cell_type": "code",
   "execution_count": 3,
   "metadata": {},
   "outputs": [],
   "source": [
    "# Creates a GIF of a disease spreading through a population according to the Reed-Frost SIR Model\n",
    "# size = population size\n",
    "# I0 = initial number of infected individuals\n",
    "# p = probability of contact between each infected and susceptible person at each time step\n",
    "# note: the nodes' relative positions on the graph are meaningless and do not affect probability of contact\n",
    "rfanimation <- function(size, I0, p) {\n",
    "  g1 <- graph(edges=c(), n=size, directed=F) #create a graph with size vertices, no edges\n",
    "  Status <- c() #vector representing the status of each person in the population\n",
    "  for (i in 1:(I0)) { #set the first I0 people to \"infected\"\n",
    "    Status <- cbind(Status, \"I\")\n",
    "  }\n",
    "  for (i in 1:(size - I0)) { #set the rest of the population to \"susceptible\"\n",
    "    Status <- cbind(Status, \"S\")\n",
    "  }\n",
    "  V(g1)$status = Status # assign the elements in the \"Status\" vector to the nodes in the graph\n",
    "  V(g1)$color = ifelse(V(g1)$status==\"S\", \"green\", ifelse(V(g1)$status==\"I\", \"red\", \"gray\")) #assign colors\n",
    "  l <-layout.graphopt(g1) # set the layout of the graph to \"graphopt\"\n",
    "  \n",
    "  #begin the animation\n",
    "  saveGIF({\n",
    "    #plot the initial graph\n",
    "    ## Susceptible \"S\" = green\n",
    "    ## Infected \"I\" = red\n",
    "    ## Removed \"R\" = gray\n",
    "    plot(g1, vertex.color=c(\"green\", \"red\", \"gray\")[1+(V(g1)$status==\"I\")+(2*(V(g1)$status==\"R\"))], \n",
    "         vertex.size=6, vertex.label=NA, layout=l, \n",
    "         main=paste(\"Reed-Frost Simulation, population size =\", size, \", p =\", p))\n",
    "    legend(1, 1, legend=c(\"S\", \"I\", \"R\"), pch=19, col=c(\"green\", \"red\", \"gray\"))\n",
    "      \n",
    "    newStatus <- Status #vector for the status of the nodes at the new time step\n",
    "    \n",
    "    while (\"I\" %in% Status) { #while there are infected people in the population  \n",
    "      for (i in 1:length(Status)) { #for each node in the population\n",
    "        if (Status[i] == \"I\") { #if they are infected\n",
    "          newStatus[i] = \"R\" #set their new status to recovered          \n",
    "          for (j in 1:length(Status)) { #traverse the population again\n",
    "            if (Status[j] == \"S\") { #if they are susceptible\n",
    "              u <- runif(1) #create a U ~ Unif(0, 1) random variable\n",
    "              if (u < p) { #if U is less than the p specified in the parameters\n",
    "                g1 <- g1 + edge(i,j) #draw an edge between the infected node and the susceptible node\n",
    "                if (newStatus[j] != \"I\") { #if node j hasn't already been infected this time step\n",
    "                  newStatus[j] = \"I\" #set its new status to infected\n",
    "                }\n",
    "              }\n",
    "            }\n",
    "          }\n",
    "        }\n",
    "      }\n",
    "  \n",
    "      Status <- newStatus #set status to new status\n",
    "      V(g1)$status = Status #assign the new status to each node in the graph\n",
    "      \n",
    "      # plot the new time step\n",
    "      plot(g1, vertex.color=c(\"green\", \"red\", \"gray\")[1+(V(g1)$status==\"I\")+(2*(V(g1)$status==\"R\"))], \n",
    "       vertex.size=6, vertex.label=NA, layout=l,\n",
    "       main=paste(\"Reed-Frost Simulation, population size =\", size, \", p =\", p))\n",
    "      legend(1, 1, legend=c(\"S\", \"I\", \"R\"), pch=19, col=c(\"green\", \"red\", \"gray\"))\n",
    "    }\n",
    "  \n",
    "  }, interval=1, movie.name=\"rf_animation.gif\")\n",
    "}"
   ]
  },
  {
   "cell_type": "markdown",
   "metadata": {},
   "source": [
    "Finally, we can run the simulation. For example:"
   ]
  },
  {
   "cell_type": "code",
   "execution_count": 4,
   "metadata": {},
   "outputs": [
    {
     "name": "stderr",
     "output_type": "stream",
     "text": [
      "Output at: rf_animation.gif\n"
     ]
    },
    {
     "data": {
      "text/html": [
       "TRUE"
      ],
      "text/latex": [
       "TRUE"
      ],
      "text/markdown": [
       "TRUE"
      ],
      "text/plain": [
       "[1] TRUE"
      ]
     },
     "metadata": {},
     "output_type": "display_data"
    }
   ],
   "source": [
    "rfanimation(150, 1, 0.015)"
   ]
  }
 ],
 "metadata": {
  "kernelspec": {
   "display_name": "R",
   "language": "R",
   "name": "ir"
  },
  "language_info": {
   "codemirror_mode": "r",
   "file_extension": ".r",
   "mimetype": "text/x-r-source",
   "name": "R",
   "pygments_lexer": "r",
   "version": "3.6.1"
  }
 },
 "nbformat": 4,
 "nbformat_minor": 4
}
