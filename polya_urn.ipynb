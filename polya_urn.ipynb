{
 "cells": [
  {
   "cell_type": "raw",
   "metadata": {
    "lines_to_next_cell": 0
   },
   "source": [
    "---\n",
    "title: \"polya_urn\"\n",
    "author: \"Celeste Zeng\"\n",
    "date: \"11/5/2020\"\n",
    "output: html_document\n",
    "---"
   ]
  },
  {
   "cell_type": "markdown",
   "metadata": {
    "lines_to_next_cell": 0
   },
   "source": [
    "Based on the polya urn model, this program will create histograms of observed ratios of black balls in the urn after \n",
    "1000 draws(steps) for 10000 trials with different initial conditions (a, b), compared to the density function of \n",
    "the Beta(a,b) distribution. (a: the initial number of black balls in the urn; b: the initial number of red balls)\n",
    "\\\\ \n",
    "First, download required packages "
   ]
  },
  {
   "cell_type": "code",
   "execution_count": null,
   "metadata": {
    "name": "setup",
    "tags": [
     "remove_cell"
    ]
   },
   "outputs": [],
   "source": [
    "library(ggplot2)\n",
    "knitr::opts_chunk$set(echo = TRUE)"
   ]
  },
  {
   "cell_type": "markdown",
   "metadata": {
    "lines_to_next_cell": 0
   },
   "source": [
    "Simulate the Polya's urn with 1 black ball and 1 red ball at the beginning"
   ]
  },
  {
   "cell_type": "code",
   "execution_count": null,
   "metadata": {
    "tags": [
     "remove_input"
    ]
   },
   "outputs": [],
   "source": [
    "nsteps<-1000; # number of steps to sample in one trial\n",
    "trials<-10000; # number of trials(more trials make the graph clearer)\n",
    "ratio<-matrix(0,nsteps,1);\n",
    "for (i in 1:trials){\n",
    "  a<- 1; # initial number of black balls\n",
    "  b<- 1; # initial number of red balls\n",
    "  black_curr <- a #current number of black balls\n",
    "  red_curr <- b #current number of red balls\n",
    "  for (n in 1:nsteps){\n",
    "    # the prob of drawing a black ball is (current # of black balls)/(initial # of black+red balls + current # of steps)\n",
    "    # the prob of drawing a red ball is (current # of red balls)/(initial # of black+red balls + current # of steps)\n",
    "    # Given those probabilities, sample a ball from the urn, \n",
    "    # here we use 1 to represent a balck ball and 0 to represent a red ball\n",
    "    drawn<-sample(c(1,0), size=1, prob=c(black_curr, red_curr)/(a + b + n))\n",
    "    if (drawn == 1) {\n",
    "      black_curr <- black_curr + 1\n",
    "    } else {\n",
    "      red_curr <- red_curr + 1\n",
    "    }\n",
    "  }\n",
    "  # in the ith trial, add the ratio of black balls in the urn after n steps\n",
    "  ratio[i]<-black_curr/(a +b + n)\n",
    "}\n",
    "# the proportion of black balls in the urn converges in distribution \n",
    "# to the Beta distribution with parameters the same as initial # of red balls\n",
    "# and initial # of black balls when n grows.\n",
    "# As shown by the graph\n",
    "sort_ratio <- sort(ratio)\n",
    "beta_pdf <- dbeta(sort_ratio, a, b)\n",
    "df <- data.frame(ratio,beta_pdf)\n",
    "beta_para <- paste(\"BETA(\",a,\",\",b,\")\")\n",
    "num_bins <- 20\n",
    "ggplot(df, aes(ratio)) +                  \n",
    "     geom_histogram(aes(x = ratio), fill=\"lightblue\", bins = num_bins, boundary=0, color = \"white\") + \n",
    "     scale_x_continuous(breaks = seq(0, 1, by=0.2), limits=c(0,1)) +\n",
    "     labs(title = beta_para,\n",
    "       x = \"Ratio of Black Balls in the Urn\",\n",
    "       y = \"\") + \n",
    "     theme_bw(base_size = 16) +\n",
    "     theme(plot.title = element_text(hjust = 0.5, face = \"bold\"), \n",
    "           axis.text.y = element_blank(), \n",
    "           plot.margin = unit(c(1, 1, 1, 2), \"cm\")) + \n",
    "     geom_line(aes(x = sort_ratio, y= (trials/num_bins) * beta_pdf), colour=\"red\")"
   ]
  },
  {
   "cell_type": "markdown",
   "metadata": {
    "lines_to_next_cell": 0
   },
   "source": [
    "Simulate the Polya's urn with 1 black ball and 6 red ball at the beginning"
   ]
  },
  {
   "cell_type": "code",
   "execution_count": null,
   "metadata": {},
   "outputs": [],
   "source": [
    "for (i in 1:trials){\n",
    "  a<- 1; \n",
    "  b<- 6; \n",
    "  black_curr <- a \n",
    "  red_curr <- b \n",
    "  for (n in 1:nsteps){\n",
    "    drawn<-sample(c(1,0), size=1, prob=c(black_curr, red_curr)/(a + b + n))\n",
    "    if (drawn == 1) {\n",
    "      black_curr <- black_curr + 1\n",
    "    } else {\n",
    "      red_curr <- red_curr + 1\n",
    "    }\n",
    "  }\n",
    "  ratio[i]<-black_curr/(a +b + n)\n",
    "}\n",
    "sort_ratio <- sort(ratio)\n",
    "beta_pdf <- dbeta(sort_ratio, a, b)\n",
    "df <- data.frame(ratio,beta_pdf)\n",
    "beta_para <- paste(\"BETA(\",a,\",\",b,\")\")\n",
    "num_bins <- 20\n",
    "ggplot(df, aes(ratio)) +                  \n",
    "     geom_histogram(aes(x = ratio), fill=\"lightblue\", bins = num_bins, boundary=0, color = \"white\") + \n",
    "     scale_x_continuous(breaks = seq(0, 1, by=0.2), limits=c(0,1)) +\n",
    "     labs(title = beta_para,\n",
    "       x = \"Ratio of Black Balls in the Urn\",\n",
    "       y = \"\") + \n",
    "     theme_bw(base_size = 16) +\n",
    "     theme(plot.title = element_text(hjust = 0.5, face = \"bold\"), \n",
    "           axis.text.y = element_blank(), \n",
    "           plot.margin = unit(c(1, 1, 1, 2), \"cm\")) + \n",
    "     geom_line(aes(x = sort_ratio, y= (trials/num_bins) * beta_pdf), colour=\"red\")"
   ]
  },
  {
   "cell_type": "markdown",
   "metadata": {
    "lines_to_next_cell": 0
   },
   "source": [
    "Simulate the Polya's urn with 7 black ball and 2 red ball at the beginning"
   ]
  },
  {
   "cell_type": "code",
   "execution_count": null,
   "metadata": {},
   "outputs": [],
   "source": [
    "for (i in 1:trials){\n",
    "  a<- 7; \n",
    "  b<- 2; \n",
    "  black_curr <- a \n",
    "  red_curr <- b \n",
    "  for (n in 1:nsteps){\n",
    "    drawn<-sample(c(1,0), size=1, prob=c(black_curr, red_curr)/(a + b + n))\n",
    "    if (drawn == 1) {\n",
    "      black_curr <- black_curr + 1\n",
    "    } else {\n",
    "      red_curr <- red_curr + 1\n",
    "    }\n",
    "  }\n",
    "  ratio[i]<-black_curr/(a +b + n)\n",
    "}\n",
    "sort_ratio <- sort(ratio)\n",
    "beta_pdf <- dbeta(sort_ratio, a, b)\n",
    "df <- data.frame(ratio,beta_pdf)\n",
    "beta_para <- paste(\"BETA(\",a,\",\",b,\")\")\n",
    "num_bins <- 20\n",
    "ggplot(df, aes(ratio)) +                  \n",
    "     geom_histogram(aes(x = ratio), fill=\"lightblue\", bins = num_bins, boundary=0, color = \"white\") + \n",
    "     scale_x_continuous(breaks = seq(0, 1, by=0.2), limits=c(0,1)) +\n",
    "     labs(title = beta_para,\n",
    "       x = \"Ratio of Black Balls in the Urn\",\n",
    "       y = \"\") + \n",
    "     theme_bw(base_size = 16) +\n",
    "     theme(plot.title = element_text(hjust = 0.5, face = \"bold\"), \n",
    "           axis.text.y = element_blank(), \n",
    "           plot.margin = unit(c(1, 1, 1, 2), \"cm\")) + \n",
    "     geom_line(aes(x = sort_ratio, y= (trials/num_bins) * beta_pdf), colour=\"red\")"
   ]
  },
  {
   "cell_type": "markdown",
   "metadata": {
    "lines_to_next_cell": 0
   },
   "source": [
    "Simulate the Polya's urn with 4 black ball and 9 red ball at the beginning"
   ]
  },
  {
   "cell_type": "code",
   "execution_count": null,
   "metadata": {},
   "outputs": [],
   "source": [
    "for (i in 1:trials){\n",
    "  a<- 4; \n",
    "  b<- 9; \n",
    "  black_curr <- a \n",
    "  red_curr <- b \n",
    "  for (n in 1:nsteps){\n",
    "    drawn<-sample(c(1,0), size=1, prob=c(black_curr, red_curr)/(a + b + n))\n",
    "    if (drawn == 1) {\n",
    "      black_curr <- black_curr + 1\n",
    "    } else {\n",
    "      red_curr <- red_curr + 1\n",
    "    }\n",
    "  }\n",
    "  ratio[i]<-black_curr/(a +b + n)\n",
    "}\n",
    "sort_ratio <- sort(ratio)\n",
    "beta_pdf <- dbeta(sort_ratio, a, b)\n",
    "df <- data.frame(ratio,beta_pdf)\n",
    "beta_para <- paste(\"BETA(\",a,\",\",b,\")\")\n",
    "num_bins <- 20\n",
    "ggplot(df, aes(ratio)) +                  \n",
    "     geom_histogram(aes(x = ratio), fill=\"lightblue\", bins = num_bins, boundary=0, color = \"white\") + \n",
    "     scale_x_continuous(breaks = seq(0, 1, by=0.2), limits=c(0,1)) +\n",
    "     labs(title = beta_para,\n",
    "       x = \"Ratio of Black Balls in the Urn\",\n",
    "       y = \"\") + \n",
    "     theme_bw(base_size = 16) +\n",
    "     theme(plot.title = element_text(hjust = 0.5, face = \"bold\"), \n",
    "           axis.text.y = element_blank(), \n",
    "           plot.margin = unit(c(1, 1, 1, 2), \"cm\")) + \n",
    "     geom_line(aes(x = sort_ratio, y= (trials/num_bins) * beta_pdf), colour=\"red\")"
   ]
  }
 ],
 "metadata": {
  "jupytext": {
   "cell_metadata_filter": "name,tags,-all",
   "main_language": "R",
   "notebook_metadata_filter": "-all"
  }
 },
 "nbformat": 4,
 "nbformat_minor": 4
}
